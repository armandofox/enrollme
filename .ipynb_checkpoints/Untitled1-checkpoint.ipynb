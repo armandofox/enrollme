{
 "cells": [
  {
   "cell_type": "code",
   "execution_count": null,
   "metadata": {
    "collapsed": true
   },
   "outputs": [],
   "source": [
    "require 'nokogiri'\n",
    "require 'open-uri'\n",
    "\n",
    "# Fetch and parse HTML document\n",
    "doc = Nokogiri::HTML(open('http://www.nokogiri.org/tutorials/installing_nokogiri.html'))\n",
    "\n",
    "puts \"### Search for nodes by css\"\n",
    "doc.css('nav ul.menu li a', 'article h2').each do |link|\n",
    "  puts link.content\n",
    "end\n",
    "\n",
    "puts \"### Search for nodes by xpath\"\n",
    "doc.xpath('//nav//ul//li/a', '//article//h2').each do |link|\n",
    "  puts link.content\n",
    "end\n",
    "\n",
    "puts \"### Or mix and match.\"\n",
    "doc.search('nav ul.menu li a', '//article//h2').each do |link|\n",
    "  puts link.content\n",
    "end\n"
   ]
  }
 ],
 "metadata": {
  "kernelspec": {
   "display_name": "Ruby 2.3.0",
   "language": "ruby",
   "name": "ruby"
  }
 },
 "nbformat": 4,
 "nbformat_minor": 2
}
